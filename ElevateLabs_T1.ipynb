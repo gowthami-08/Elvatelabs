{
  "nbformat": 4,
  "nbformat_minor": 0,
  "metadata": {
    "colab": {
      "provenance": [],
      "authorship_tag": "ABX9TyOFoKoQX/GDVEdeY44DgzaS",
      "include_colab_link": true
    },
    "kernelspec": {
      "name": "python3",
      "display_name": "Python 3"
    },
    "language_info": {
      "name": "python"
    }
  },
  "cells": [
    {
      "cell_type": "markdown",
      "metadata": {
        "id": "view-in-github",
        "colab_type": "text"
      },
      "source": [
        "<a href=\"https://colab.research.google.com/github/gowthami-08/Elvatelabs/blob/main/ElevateLabs_T1.ipynb\" target=\"_parent\"><img src=\"https://colab.research.google.com/assets/colab-badge.svg\" alt=\"Open In Colab\"/></a>"
      ]
    },
    {
      "cell_type": "code",
      "execution_count": 1,
      "metadata": {
        "colab": {
          "base_uri": "https://localhost:8080/"
        },
        "id": "axBO7r9ZOdPu",
        "outputId": "647e0dc6-3128-4548-8199-786e46e5659c"
      },
      "outputs": [
        {
          "output_type": "stream",
          "name": "stdout",
          "text": [
            "   ID  Age  Gender  Height_cm  Weight_kg    BMI  Daily_Steps  Calories_Intake  \\\n",
            "0   1   56    Male        164         81  30.72         5134             1796   \n",
            "1   2   69    Male        156         82  20.86        12803             1650   \n",
            "2   3   46  Female        158         65  30.93        16408             1756   \n",
            "3   4   32    Male        197         87  31.19        18420             2359   \n",
            "4   5   60    Male        157         63  29.37        17351             2556   \n",
            "\n",
            "   Hours_of_Sleep  Heart_Rate Blood_Pressure  Exercise_Hours_per_Week Smoker  \\\n",
            "0             8.6         102         137/72                      8.1     No   \n",
            "1             4.5         103         129/65                      3.7     No   \n",
            "2             4.3          74         127/68                      3.2    Yes   \n",
            "3             4.1         116         125/86                      8.5     No   \n",
            "4             5.1         111         100/64                      8.5    Yes   \n",
            "\n",
            "   Alcohol_Consumption_per_Week Diabetic Heart_Disease  \n",
            "0                             7       No            No  \n",
            "1                             7       No            No  \n",
            "2                             0       No            No  \n",
            "3                             5       No            No  \n",
            "4                             8       No            No  \n",
            "<class 'pandas.core.frame.DataFrame'>\n",
            "RangeIndex: 1000 entries, 0 to 999\n",
            "Data columns (total 16 columns):\n",
            " #   Column                        Non-Null Count  Dtype  \n",
            "---  ------                        --------------  -----  \n",
            " 0   ID                            1000 non-null   int64  \n",
            " 1   Age                           1000 non-null   int64  \n",
            " 2   Gender                        1000 non-null   object \n",
            " 3   Height_cm                     1000 non-null   int64  \n",
            " 4   Weight_kg                     1000 non-null   int64  \n",
            " 5   BMI                           1000 non-null   float64\n",
            " 6   Daily_Steps                   1000 non-null   int64  \n",
            " 7   Calories_Intake               1000 non-null   int64  \n",
            " 8   Hours_of_Sleep                1000 non-null   float64\n",
            " 9   Heart_Rate                    1000 non-null   int64  \n",
            " 10  Blood_Pressure                1000 non-null   object \n",
            " 11  Exercise_Hours_per_Week       1000 non-null   float64\n",
            " 12  Smoker                        1000 non-null   object \n",
            " 13  Alcohol_Consumption_per_Week  1000 non-null   int64  \n",
            " 14  Diabetic                      1000 non-null   object \n",
            " 15  Heart_Disease                 1000 non-null   object \n",
            "dtypes: float64(3), int64(8), object(5)\n",
            "memory usage: 125.1+ KB\n",
            "None\n",
            "                ID          Age   Height_cm   Weight_kg          BMI  \\\n",
            "count  1000.000000  1000.000000  1000.00000  1000.00000  1000.000000   \n",
            "mean    500.500000    49.857000   174.74500    84.35200    26.729510   \n",
            "std     288.819436    18.114267    14.54192    20.06596     4.786341   \n",
            "min       1.000000    18.000000   150.00000    50.00000    18.500000   \n",
            "25%     250.750000    35.000000   162.00000    68.00000    22.600000   \n",
            "50%     500.500000    50.000000   175.00000    84.00000    26.800000   \n",
            "75%     750.250000    66.000000   187.00000   101.00000    30.850000   \n",
            "max    1000.000000    79.000000   199.00000   119.00000    34.980000   \n",
            "\n",
            "        Daily_Steps  Calories_Intake  Hours_of_Sleep   Heart_Rate  \\\n",
            "count   1000.000000      1000.000000      1000.00000  1000.000000   \n",
            "mean   10717.034000      2327.117000         6.90990    84.710000   \n",
            "std     5444.707891       657.847942         1.77964    20.130155   \n",
            "min     1016.000000      1201.000000         4.00000    50.000000   \n",
            "25%     6028.250000      1745.750000         5.30000    67.000000   \n",
            "50%    10898.000000      2328.500000         6.90000    84.000000   \n",
            "75%    15253.250000      2880.000000         8.40000   103.000000   \n",
            "max    19931.000000      3498.000000        10.00000   119.000000   \n",
            "\n",
            "       Exercise_Hours_per_Week  Alcohol_Consumption_per_Week  \n",
            "count              1000.000000                   1000.000000  \n",
            "mean                  5.045500                      4.573000  \n",
            "std                   2.847801                      2.852509  \n",
            "min                   0.000000                      0.000000  \n",
            "25%                   2.675000                      2.000000  \n",
            "50%                   5.100000                      5.000000  \n",
            "75%                   7.600000                      7.000000  \n",
            "max                  10.000000                      9.000000  \n"
          ]
        }
      ],
      "source": [
        "import pandas as pd\n",
        "\n",
        "df = pd.read_csv(\"heart.csv\")\n",
        "print(df.head())\n",
        "print(df.info())\n",
        "print(df.describe())\n"
      ]
    },
    {
      "cell_type": "code",
      "source": [
        "df.isnull().sum()\n"
      ],
      "metadata": {
        "colab": {
          "base_uri": "https://localhost:8080/",
          "height": 585
        },
        "id": "aC8GSN7ORMN9",
        "outputId": "82850b5d-26cc-4cf1-cee3-7d27d5ea06b6"
      },
      "execution_count": 6,
      "outputs": [
        {
          "output_type": "execute_result",
          "data": {
            "text/plain": [
              "ID                              0\n",
              "Age                             0\n",
              "Gender                          0\n",
              "Height_cm                       0\n",
              "Weight_kg                       0\n",
              "BMI                             0\n",
              "Daily_Steps                     0\n",
              "Calories_Intake                 0\n",
              "Hours_of_Sleep                  0\n",
              "Heart_Rate                      0\n",
              "Blood_Pressure                  0\n",
              "Exercise_Hours_per_Week         0\n",
              "Smoker                          0\n",
              "Alcohol_Consumption_per_Week    0\n",
              "Diabetic                        0\n",
              "Heart_Disease                   0\n",
              "dtype: int64"
            ],
            "text/html": [
              "<div>\n",
              "<style scoped>\n",
              "    .dataframe tbody tr th:only-of-type {\n",
              "        vertical-align: middle;\n",
              "    }\n",
              "\n",
              "    .dataframe tbody tr th {\n",
              "        vertical-align: top;\n",
              "    }\n",
              "\n",
              "    .dataframe thead th {\n",
              "        text-align: right;\n",
              "    }\n",
              "</style>\n",
              "<table border=\"1\" class=\"dataframe\">\n",
              "  <thead>\n",
              "    <tr style=\"text-align: right;\">\n",
              "      <th></th>\n",
              "      <th>0</th>\n",
              "    </tr>\n",
              "  </thead>\n",
              "  <tbody>\n",
              "    <tr>\n",
              "      <th>ID</th>\n",
              "      <td>0</td>\n",
              "    </tr>\n",
              "    <tr>\n",
              "      <th>Age</th>\n",
              "      <td>0</td>\n",
              "    </tr>\n",
              "    <tr>\n",
              "      <th>Gender</th>\n",
              "      <td>0</td>\n",
              "    </tr>\n",
              "    <tr>\n",
              "      <th>Height_cm</th>\n",
              "      <td>0</td>\n",
              "    </tr>\n",
              "    <tr>\n",
              "      <th>Weight_kg</th>\n",
              "      <td>0</td>\n",
              "    </tr>\n",
              "    <tr>\n",
              "      <th>BMI</th>\n",
              "      <td>0</td>\n",
              "    </tr>\n",
              "    <tr>\n",
              "      <th>Daily_Steps</th>\n",
              "      <td>0</td>\n",
              "    </tr>\n",
              "    <tr>\n",
              "      <th>Calories_Intake</th>\n",
              "      <td>0</td>\n",
              "    </tr>\n",
              "    <tr>\n",
              "      <th>Hours_of_Sleep</th>\n",
              "      <td>0</td>\n",
              "    </tr>\n",
              "    <tr>\n",
              "      <th>Heart_Rate</th>\n",
              "      <td>0</td>\n",
              "    </tr>\n",
              "    <tr>\n",
              "      <th>Blood_Pressure</th>\n",
              "      <td>0</td>\n",
              "    </tr>\n",
              "    <tr>\n",
              "      <th>Exercise_Hours_per_Week</th>\n",
              "      <td>0</td>\n",
              "    </tr>\n",
              "    <tr>\n",
              "      <th>Smoker</th>\n",
              "      <td>0</td>\n",
              "    </tr>\n",
              "    <tr>\n",
              "      <th>Alcohol_Consumption_per_Week</th>\n",
              "      <td>0</td>\n",
              "    </tr>\n",
              "    <tr>\n",
              "      <th>Diabetic</th>\n",
              "      <td>0</td>\n",
              "    </tr>\n",
              "    <tr>\n",
              "      <th>Heart_Disease</th>\n",
              "      <td>0</td>\n",
              "    </tr>\n",
              "  </tbody>\n",
              "</table>\n",
              "</div><br><label><b>dtype:</b> int64</label>"
            ]
          },
          "metadata": {},
          "execution_count": 6
        }
      ]
    },
    {
      "cell_type": "code",
      "source": [
        "print(df.columns)\n"
      ],
      "metadata": {
        "colab": {
          "base_uri": "https://localhost:8080/"
        },
        "id": "WccY6SJiR5mQ",
        "outputId": "d51499c5-4f0c-4114-a736-9661b999e2b3"
      },
      "execution_count": 12,
      "outputs": [
        {
          "output_type": "stream",
          "name": "stdout",
          "text": [
            "Index(['ID', 'Age', 'Gender', 'Height_cm', 'Weight_kg', 'BMI', 'Daily_Steps',\n",
            "       'Calories_Intake', 'Hours_of_Sleep', 'Heart_Rate', 'Blood_Pressure',\n",
            "       'Exercise_Hours_per_Week', 'Smoker', 'Alcohol_Consumption_per_Week',\n",
            "       'Diabetic', 'Heart_Disease'],\n",
            "      dtype='object')\n"
          ]
        }
      ]
    },
    {
      "cell_type": "code",
      "source": [
        "df = pd.get_dummies(df, columns=['Gender', 'Smoker', 'Diabetic'], drop_first=True)\n"
      ],
      "metadata": {
        "id": "EIZ2UQEISKRy"
      },
      "execution_count": 13,
      "outputs": []
    },
    {
      "cell_type": "code",
      "source": [
        "# Split into systolic and diastolic pressure\n",
        "df[['Systolic', 'Diastolic']] = df['Blood_Pressure'].str.split('/', expand=True)\n",
        "\n",
        "# Convert to numeric\n",
        "df['Systolic'] = pd.to_numeric(df['Systolic'])\n",
        "df['Diastolic'] = pd.to_numeric(df['Diastolic'])\n",
        "\n",
        "# Drop the original string column\n",
        "df.drop('Blood_Pressure', axis=1, inplace=True)\n"
      ],
      "metadata": {
        "id": "8IgiTmWSTMZX"
      },
      "execution_count": 17,
      "outputs": []
    },
    {
      "cell_type": "code",
      "source": [
        "from sklearn.preprocessing import StandardScaler\n",
        "\n",
        "scaler = StandardScaler()\n",
        "\n",
        "num_cols = ['Age', 'Height_cm', 'Weight_kg', 'BMI', 'Daily_Steps',\n",
        "            'Calories_Intake', 'Hours_of_Sleep', 'Heart_Rate',\n",
        "            'Systolic', 'Diastolic', 'Exercise_Hours_per_Week',\n",
        "            'Alcohol_Consumption_per_Week']\n",
        "\n",
        "df[num_cols] = scaler.fit_transform(df[num_cols])\n"
      ],
      "metadata": {
        "id": "LNrb12r2TPOE"
      },
      "execution_count": 18,
      "outputs": []
    },
    {
      "cell_type": "code",
      "source": [
        "print(df.head())  # See first 5 rows\n",
        "print(df[num_cols].describe())  # Check mean ≈ 0 and std ≈ 1\n"
      ],
      "metadata": {
        "colab": {
          "base_uri": "https://localhost:8080/"
        },
        "id": "UX1E9HuFTYjU",
        "outputId": "ca246dbd-3e71-43e1-8da8-4cf03ae8a169"
      },
      "execution_count": 19,
      "outputs": [
        {
          "output_type": "stream",
          "name": "stdout",
          "text": [
            "   ID       Age  Height_cm  Weight_kg       BMI  Daily_Steps  Calories_Intake  \\\n",
            "0   1  0.339295  -0.739268  -0.167133  0.834142    -1.025919        -0.807759   \n",
            "1   2  1.057320  -1.289677  -0.117272 -1.226918     0.383310        -1.029806   \n",
            "2   3 -0.213033  -1.152075  -0.964902  0.878038     1.045752        -0.868594   \n",
            "3   4 -0.986291   1.531169   0.132031  0.932387     1.415470         0.048490   \n",
            "4   5  0.560226  -1.220876  -1.064623  0.551948     1.219034         0.348101   \n",
            "\n",
            "   Hours_of_Sleep  Heart_Rate  Exercise_Hours_per_Week  \\\n",
            "0        0.950162    0.859340                 1.073119   \n",
            "1       -1.354828    0.909042                -0.472706   \n",
            "2       -1.467266   -0.532304                -0.648368   \n",
            "3       -1.579705    1.555162                 1.213648   \n",
            "4       -1.017512    1.306654                 1.213648   \n",
            "\n",
            "   Alcohol_Consumption_per_Week Heart_Disease  Gender_Male  Smoker_Yes  \\\n",
            "0                      0.851256            No         True       False   \n",
            "1                      0.851256            No         True       False   \n",
            "2                     -1.603952            No        False        True   \n",
            "3                      0.149768            No         True       False   \n",
            "4                      1.202000            No         True        True   \n",
            "\n",
            "   Diabetic_Yes  Systolic  Diastolic  \n",
            "0         False  1.592705  -0.322628  \n",
            "1         False  1.039994  -1.114490  \n",
            "2         False  0.901816  -0.775121  \n",
            "3         False  0.763639   1.261098  \n",
            "4         False -0.963582  -1.227614  \n",
            "                Age     Height_cm     Weight_kg           BMI   Daily_Steps  \\\n",
            "count  1.000000e+03  1.000000e+03  1.000000e+03  1.000000e+03  1.000000e+03   \n",
            "mean   1.776357e-17 -3.170797e-16 -1.918465e-16 -2.629008e-16  6.306067e-17   \n",
            "std    1.000500e+00  1.000500e+00  1.000500e+00  1.000500e+00  1.000500e+00   \n",
            "min   -1.759549e+00 -1.702484e+00 -1.712811e+00 -1.720234e+00 -1.782628e+00   \n",
            "25%   -8.205926e-01 -8.768703e-01 -8.153202e-01 -8.632013e-01 -8.615945e-01   \n",
            "50%    7.898280e-03  1.754429e-02 -1.755092e-02  1.473469e-02  3.325368e-02   \n",
            "75%    8.916219e-01  8.431577e-01  8.300789e-01  8.613159e-01  8.335591e-01   \n",
            "max    1.609647e+00  1.668771e+00  1.727569e+00  1.724620e+00  1.693126e+00   \n",
            "\n",
            "       Calories_Intake  Hours_of_Sleep    Heart_Rate      Systolic  \\\n",
            "count     1.000000e+03    1.000000e+03  1.000000e+03  1.000000e+03   \n",
            "mean     -2.984279e-16   -2.140510e-16  3.099743e-16 -1.918465e-16   \n",
            "std       1.000500e+00    1.000500e+00  1.000500e+00  1.000500e+00   \n",
            "min      -1.712676e+00   -1.635924e+00 -1.725142e+00 -1.654470e+00   \n",
            "25%      -8.841829e-01   -9.050737e-01 -8.802149e-01 -8.254042e-01   \n",
            "50%       2.103361e-03   -5.565706e-03 -3.528812e-02 -6.542711e-02   \n",
            "75%       8.408625e-01    8.377231e-01  9.090418e-01  8.327276e-01   \n",
            "max       1.780759e+00    1.737231e+00  1.704267e+00  1.730882e+00   \n",
            "\n",
            "          Diastolic  Exercise_Hours_per_Week  Alcohol_Consumption_per_Week  \n",
            "count  1.000000e+03             1.000000e+03                  1.000000e+03  \n",
            "mean  -4.369838e-16             1.225686e-16                 -2.060574e-16  \n",
            "std    1.000500e+00             1.000500e+00                  1.000500e+00  \n",
            "min   -1.680107e+00            -1.772605e+00                 -1.603952e+00  \n",
            "25%   -8.882438e-01            -8.328132e-01                 -9.024643e-01  \n",
            "50%    1.674224e-02             1.914715e-02                  1.497677e-01  \n",
            "75%    9.217283e-01             8.974568e-01                  8.512556e-01  \n",
            "max    1.600468e+00             1.740634e+00                  1.552744e+00  \n"
          ]
        }
      ]
    },
    {
      "cell_type": "code",
      "source": [
        "import seaborn as sns\n",
        "import matplotlib.pyplot as plt\n",
        "\n",
        "plt.figure(figsize=(10, 6))\n",
        "sns.boxplot(data=df[num_cols])\n",
        "plt.show()\n",
        "\n",
        "# Remove outliers based on thresholds if necessary\n"
      ],
      "metadata": {
        "colab": {
          "base_uri": "https://localhost:8080/",
          "height": 522
        },
        "id": "lSHWAi7YTg55",
        "outputId": "fe3bc0ef-1ca5-46b9-ecad-5e6fa6b74e39"
      },
      "execution_count": 20,
      "outputs": [
        {
          "output_type": "display_data",
          "data": {
            "text/plain": [
              "<Figure size 1000x600 with 1 Axes>"
            ],
            "image/png": "[encoded data removed]"
          },
          "metadata": {}
        }
      ]
    }
  ]
}